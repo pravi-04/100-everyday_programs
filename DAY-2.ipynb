{
 "cells": [
  {
   "cell_type": "markdown",
   "id": "1383c828",
   "metadata": {},
   "source": [
    "### Ex:1"
   ]
  },
  {
   "cell_type": "code",
   "execution_count": 10,
   "id": "51e4931b",
   "metadata": {},
   "outputs": [
    {
     "name": "stdout",
     "output_type": "stream",
     "text": [
      "    * \n",
      "   * * \n",
      "  * * * \n",
      " * * * * \n",
      "* * * * * \n",
      " * * * * \n",
      "  * * * \n",
      "   * * \n",
      "    * \n",
      "     \n"
     ]
    }
   ],
   "source": [
    "def print_triangle(rows):\n",
    "    for i in range(1, rows + 1):\n",
    "        print(\" \" * (rows - i) + \"* \" * i)\n",
    "    \n",
    "    for i in range(rows-1, -1, -1):\n",
    "        print(\" \" * (rows - i) + \"* \" * i)\n",
    "print_triangle(5)\n"
   ]
  },
  {
   "cell_type": "markdown",
   "id": "de5175a9",
   "metadata": {},
   "source": [
    "### Ex: 2"
   ]
  },
  {
   "cell_type": "code",
   "execution_count": 11,
   "id": "88144d41",
   "metadata": {},
   "outputs": [
    {
     "name": "stdout",
     "output_type": "stream",
     "text": [
      "1*2*3*4*\n",
      "  5*6*7*\n",
      "    8*9*\n",
      "      10*\n"
     ]
    }
   ],
   "source": [
    "n =4\n",
    "num=1\n",
    "for i in range(1,n+1):\n",
    "    print(\"  \"*(i-1), end=\"\")\n",
    "    for j in range(n-i, -1, -1):\n",
    "        print(f\"{num}*\", end=\"\")\n",
    "        num+=1\n",
    "    print()"
   ]
  },
  {
   "cell_type": "markdown",
   "id": "f0996de6",
   "metadata": {},
   "source": [
    "### Ex:3"
   ]
  },
  {
   "cell_type": "code",
   "execution_count": 16,
   "id": "d69f108e",
   "metadata": {},
   "outputs": [
    {
     "name": "stdout",
     "output_type": "stream",
     "text": [
      "1 \n",
      "1 2 \n",
      "1 2 3 \n",
      "1 2 3 4 \n"
     ]
    }
   ],
   "source": [
    "n=4\n",
    "for i in range(n):\n",
    "    for j in range(0, i+1):\n",
    "        print(j+1, end=\" \")\n",
    "        \n",
    "    print()"
   ]
  },
  {
   "cell_type": "markdown",
   "id": "0de716e7",
   "metadata": {},
   "source": [
    "### Ex: 4"
   ]
  },
  {
   "cell_type": "code",
   "execution_count": 14,
   "id": "53870a0d",
   "metadata": {},
   "outputs": [
    {
     "name": "stdout",
     "output_type": "stream",
     "text": [
      "4\n"
     ]
    }
   ],
   "source": [
    "bus = 0\n",
    "n = 4\n",
    "m = 4\n",
    "groups = [3, 3, 3, 2]\n",
    "i = 0\n",
    "Sum = 0\n",
    "\n",
    "while i < n:\n",
    "    if Sum + groups[i] <= m:  # Corrected condition\n",
    "        Sum += groups[i]\n",
    "        i += 1\n",
    "    else:\n",
    "        bus += 1\n",
    "        Sum = 0\n",
    "\n",
    "# If there are still remaining passengers\n",
    "if Sum > 0:\n",
    "    bus += 1\n",
    "\n",
    "print(bus)\n"
   ]
  },
  {
   "cell_type": "markdown",
   "id": "b7e203f5",
   "metadata": {},
   "source": [
    "Given a Colony of ants consisting of 'n', then the colony is said to be peaceful if it has equal number of red & black ants. From the given input print peaceful or not peaceful"
   ]
  },
  {
   "cell_type": "code",
   "execution_count": 20,
   "id": "4fd01dec",
   "metadata": {},
   "outputs": [],
   "source": [
    "def redBlack(n, array):\n",
    "    red = 0\n",
    "    black = 0\n",
    "    for i in range(n):\n",
    "        if array[i].lower() == 'red':\n",
    "            red += 1\n",
    "        elif array[i].lower() == 'black':\n",
    "            black += 1\n",
    "    if red == black:\n",
    "        return \"Peaceful\"\n",
    "    else:\n",
    "        return \"Not Peaceful\""
   ]
  },
  {
   "cell_type": "code",
   "execution_count": 21,
   "id": "dd86473d",
   "metadata": {},
   "outputs": [
    {
     "data": {
      "text/plain": [
       "'Peaceful'"
      ]
     },
     "execution_count": 21,
     "metadata": {},
     "output_type": "execute_result"
    }
   ],
   "source": [
    "redBlack(4, [\"Red\", \"Black\", \"red\", \"black\"])"
   ]
  },
  {
   "cell_type": "code",
   "execution_count": 2,
   "id": "7585afc0",
   "metadata": {},
   "outputs": [],
   "source": [
    "def mailPattern(n):\n",
    "    m = (n//2)+1\n",
    "    for i in range(n):\n",
    "        for j in range(n):\n",
    "            if (i==j and i<m or i ==n-1 or j==0) or ((j==n-i-1) and i<m or i==0 or j==n-1) :\n",
    "                print(\"*\", end=\" \")\n",
    "            else:\n",
    "                print(\" \", end=\" \")\n",
    "            \n",
    "                \n",
    "            \n",
    "        print()\n",
    "        "
   ]
  },
  {
   "cell_type": "code",
   "execution_count": 6,
   "id": "fc3fe8a3",
   "metadata": {},
   "outputs": [
    {
     "name": "stdout",
     "output_type": "stream",
     "text": [
      "* * * * * \n",
      "* *   * * \n",
      "*   *   * \n",
      "*       * \n",
      "* * * * * \n"
     ]
    }
   ],
   "source": [
    "mailPattern(5)"
   ]
  },
  {
   "cell_type": "markdown",
   "id": "867e9db1",
   "metadata": {},
   "source": [
    "### EX: 5"
   ]
  },
  {
   "cell_type": "code",
   "execution_count": 42,
   "id": "08b14685",
   "metadata": {},
   "outputs": [],
   "source": [
    "def stockBroker(n, arr):\n",
    "    day = 0\n",
    "    min_day = arr[0]\n",
    "    for i in range(1, n):\n",
    "        if min_day>arr[i]:\n",
    "            min_day = arr[i]\n",
    "            day = i\n",
    "            \n",
    "    print(arr[day])\n",
    "            \n",
    "    max_day = arr[day]\n",
    "    for j in range(day, n):\n",
    "        if max_day<arr[j]:\n",
    "            max_day = arr[j]\n",
    "    \n",
    "    max_profit = max_day - min_day if (max_day != min_day) and (max_day > min_day) else 0\n",
    "    print(max_profit)\n",
    "    if max_profit:\n",
    "        return max_profit\n",
    "    else:\n",
    "        return -1"
   ]
  },
  {
   "cell_type": "code",
   "execution_count": 43,
   "id": "b4489efe",
   "metadata": {},
   "outputs": [
    {
     "name": "stdout",
     "output_type": "stream",
     "text": [
      "1\n",
      "0\n"
     ]
    },
    {
     "data": {
      "text/plain": [
       "-1"
      ]
     },
     "execution_count": 43,
     "metadata": {},
     "output_type": "execute_result"
    }
   ],
   "source": [
    "stockBroker(6, [7, 6, 4, 3, 2, 1])"
   ]
  },
  {
   "cell_type": "code",
   "execution_count": 2,
   "id": "e07fe7b7",
   "metadata": {},
   "outputs": [],
   "source": [
    "def encapsulation(n, m):\n",
    "    for i in range(m):\n",
    "        for j in range(n):\n",
    "            if i==0 or i==m-1 or j == 0 or j == n-1:\n",
    "                print(\"* \", end=\"\")\n",
    "            else:\n",
    "                print(\"0 \", end=\"\")\n",
    "                \n",
    "        print()"
   ]
  },
  {
   "cell_type": "code",
   "execution_count": 8,
   "id": "8321c8da",
   "metadata": {},
   "outputs": [
    {
     "name": "stdout",
     "output_type": "stream",
     "text": [
      "* * * * * * \n",
      "* 0 0 0 0 * \n",
      "* 0 0 0 0 * \n",
      "* 0 0 0 0 * \n",
      "* 0 0 0 0 * \n",
      "* 0 0 0 0 * \n",
      "* * * * * * \n"
     ]
    }
   ],
   "source": [
    "encapsulation(6, 7)"
   ]
  },
  {
   "cell_type": "code",
   "execution_count": 18,
   "id": "eedff318",
   "metadata": {},
   "outputs": [
    {
     "name": "stdout",
     "output_type": "stream",
     "text": [
      "* * * * * * \n",
      "* 0 0 0 0 * \n",
      "* 0 * 0 * * \n",
      "* * 0 * 0 * \n",
      "* 0 * 0 * * \n",
      "* 0 0 0 0 * \n",
      "* * * * * * \n"
     ]
    }
   ],
   "source": [
    "def print_pattern(m, n):\n",
    "    for i in range(m):\n",
    "        for j in range(n):\n",
    "            if i == 0 or i == m - 1:\n",
    "                print(\"*\", end=\" \")\n",
    "            elif j == 0 or j == n - 1:\n",
    "                print(\"*\", end=\" \")\n",
    "            elif (i == 1 or i == m - 2) and (j > 0 and j < n - 1):\n",
    "                print(\"0\", end=\" \")\n",
    "            elif (i > 1 and i < m - 2) and (j > 0 and j < n - 1) and (i + j) % 2 != 0:\n",
    "                print(\"*\", end=\" \")\n",
    "            else:\n",
    "                print(\"0\", end=\" \")\n",
    "        print()\n",
    "\n",
    "# Example usage\n",
    "print_pattern(7, 6)"
   ]
  },
  {
   "cell_type": "code",
   "execution_count": null,
   "id": "cb8b3afd",
   "metadata": {},
   "outputs": [],
   "source": []
  },
  {
   "cell_type": "code",
   "execution_count": null,
   "id": "dc430724",
   "metadata": {},
   "outputs": [],
   "source": []
  }
 ],
 "metadata": {
  "kernelspec": {
   "display_name": "Python 3 (ipykernel)",
   "language": "python",
   "name": "python3"
  },
  "language_info": {
   "codemirror_mode": {
    "name": "ipython",
    "version": 3
   },
   "file_extension": ".py",
   "mimetype": "text/x-python",
   "name": "python",
   "nbconvert_exporter": "python",
   "pygments_lexer": "ipython3",
   "version": "3.11.4"
  }
 },
 "nbformat": 4,
 "nbformat_minor": 5
}
