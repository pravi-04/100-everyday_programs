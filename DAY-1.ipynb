{
 "cells": [
  {
   "cell_type": "markdown",
   "id": "55e212fb",
   "metadata": {},
   "source": [
    "### Ex: 1\n",
    "**Note**: **Calculate Combination nCr = n!/r!(n-r)! and sample space = 2^N**\n",
    "\n",
    "\n",
    "Your task is to complete a function \"count_heads()\" that takes two inputs N and R. The function should return the probability of getting exactly R heads on N successive tosses of a fair coin. A fair coin has an equal probability of landing a head or a tail on each toss."
   ]
  },
  {
   "cell_type": "code",
   "execution_count": 70,
   "id": "6576c42b",
   "metadata": {},
   "outputs": [
    {
     "name": "stdout",
     "output_type": "stream",
     "text": [
      "3.0\n"
     ]
    },
    {
     "data": {
      "text/plain": [
       "'0.37500'"
      ]
     },
     "execution_count": 70,
     "metadata": {},
     "output_type": "execute_result"
    }
   ],
   "source": [
    "count_heads(3,2)"
   ]
  },
  {
   "cell_type": "markdown",
   "id": "ec48e5d7",
   "metadata": {},
   "source": [
    "Pattern"
   ]
  },
  {
   "cell_type": "code",
   "execution_count": 83,
   "id": "b13be80e",
   "metadata": {},
   "outputs": [],
   "source": [
    "def pattern(n):\n",
    "    num = 1\n",
    "    for i in range(n):\n",
    "        for j in range(n):\n",
    "            print(num, end=\" \")\n",
    "            num += 1\n",
    "            if num>10:\n",
    "                num = 1\n",
    "        print()"
   ]
  },
  {
   "cell_type": "code",
   "execution_count": 84,
   "id": "f710a67c",
   "metadata": {},
   "outputs": [
    {
     "name": "stdout",
     "output_type": "stream",
     "text": [
      "1 2 3 4 5 \n",
      "6 7 8 9 10 \n",
      "1 2 3 4 5 \n",
      "6 7 8 9 10 \n",
      "1 2 3 4 5 \n"
     ]
    }
   ],
   "source": [
    "pattern(5)"
   ]
  },
  {
   "cell_type": "markdown",
   "id": "74cc7280",
   "metadata": {},
   "source": [
    "### Ex: 2\n",
    "**Note**: **Calculate the diagonal index of elements [1][1] (left -> right) & [1][n-1] (right -> left)** \n",
    "\n",
    "Sum of diagonal Elements"
   ]
  },
  {
   "cell_type": "code",
   "execution_count": 109,
   "id": "1b2a15f3",
   "metadata": {},
   "outputs": [],
   "source": [
    "def SumOfDiagonal(array):\n",
    "    Sum = 0\n",
    "    \n",
    "    for i in range(len(array)):\n",
    "        Sum += array[i][len(array)-i-1]\n",
    "    return Sum"
   ]
  },
  {
   "cell_type": "code",
   "execution_count": 111,
   "id": "6cbf5341",
   "metadata": {},
   "outputs": [
    {
     "data": {
      "text/plain": [
       "20"
      ]
     },
     "execution_count": 111,
     "metadata": {},
     "output_type": "execute_result"
    }
   ],
   "source": [
    "# array = []\n",
    "\n",
    "# r = int(input(\"no. of rows:\"))\n",
    "# c = int(input(\"no. of cols:\"))\n",
    "\n",
    "# for i in range(c):\n",
    "#     a = []\n",
    "#     for j in range(r):\n",
    "#         a.append(int(input(\"Enter: \")))\n",
    "        \n",
    "#     array.append(a)\n",
    "    \n",
    "# print(array)\n",
    "SumOfDiagonal([[0, 0, 0, 5], [0, 0, 5, 0], [0, 5, 0, 0], [5, 0, 0, 0]])"
   ]
  },
  {
   "cell_type": "markdown",
   "id": "085211c4",
   "metadata": {},
   "source": [
    "### Ex: 3 \n",
    "**Note**: **Apply Insertion Sort in alternative manner (Even & Odd)**\n",
    "\n",
    "input = {5,1,3,2,4,6}\n",
    "output = {1,6,2,5,3,4} "
   ]
  },
  {
   "cell_type": "code",
   "execution_count": 114,
   "id": "e22474be",
   "metadata": {},
   "outputs": [],
   "source": [
    "def alternative_sort(array, n):\n",
    "    def swap(a,b):\n",
    "        array[a], array[b] = array[b], array[a]\n",
    "        \n",
    "    for i in range(n):\n",
    "        for j in range(i+1, n):\n",
    "            if i % 2 ==0 :\n",
    "                if array[j]<array[i]:\n",
    "                    swap(j,i)\n",
    "            else:  \n",
    "                if array[j]>array[i]:\n",
    "                    swap(j, i)\n",
    "    return array"
   ]
  },
  {
   "cell_type": "code",
   "execution_count": 115,
   "id": "d34a5b7a",
   "metadata": {},
   "outputs": [
    {
     "data": {
      "text/plain": [
       "[1, 6, 2, 5, 3, 4]"
      ]
     },
     "execution_count": 115,
     "metadata": {},
     "output_type": "execute_result"
    }
   ],
   "source": [
    "alternative_sort([5,1,3,2,4,6], 6)"
   ]
  },
  {
   "cell_type": "markdown",
   "id": "e7398520",
   "metadata": {},
   "source": [
    "### Ex: 4"
   ]
  },
  {
   "cell_type": "code",
   "execution_count": 118,
   "id": "498878b2",
   "metadata": {},
   "outputs": [],
   "source": [
    "def remove_vowels(String):\n",
    "    removed_vowels = \"\"\n",
    "    for i in String:\n",
    "        if i not in 'aeiouAEIOU':\n",
    "            removed_vowels += i\n",
    "    return removed_vowels"
   ]
  },
  {
   "cell_type": "code",
   "execution_count": 121,
   "id": "73338c84",
   "metadata": {},
   "outputs": [
    {
     "data": {
      "text/plain": [
       "'Cmptr'"
      ]
     },
     "execution_count": 121,
     "metadata": {},
     "output_type": "execute_result"
    }
   ],
   "source": [
    "remove_vowels(\"Compuuter\")"
   ]
  },
  {
   "cell_type": "markdown",
   "id": "d6f43d1d",
   "metadata": {},
   "source": [
    "### Ex: 5\n",
    "\n",
    "**Note**: **Count no. of '(' and ')' and that needs to be cancelling out to be a correct paranthesis, however it may not be valid for eg. )(()()**\n",
    "\n",
    "\n",
    "Example 1:\n",
    "inp = HELLO(HI(FINE))\n",
    "\n",
    "out = 0\n",
    "\n",
    "Example 2:\n",
    "inp = (9*3(1-2)\n",
    "\n",
    "out = 1"
   ]
  },
  {
   "cell_type": "code",
   "execution_count": 131,
   "id": "0453584a",
   "metadata": {},
   "outputs": [],
   "source": [
    "def correct_paranthesis(str):\n",
    "    count = 0\n",
    "    for i in str:\n",
    "        if i == '(':\n",
    "            count += 1\n",
    "        elif i == ')':\n",
    "            count -= 1\n",
    "            \n",
    "    if count == 0:\n",
    "        return 0\n",
    "    else:\n",
    "        return 1"
   ]
  },
  {
   "cell_type": "code",
   "execution_count": 132,
   "id": "60be12ee",
   "metadata": {},
   "outputs": [
    {
     "data": {
      "text/plain": [
       "0"
      ]
     },
     "execution_count": 132,
     "metadata": {},
     "output_type": "execute_result"
    }
   ],
   "source": [
    "correct_paranthesis(\"(9*7(3-12))\")"
   ]
  },
  {
   "cell_type": "markdown",
   "id": "f6c42053",
   "metadata": {},
   "source": [
    "### Ex: 6 (Not sure)\n",
    "\n",
    "Print Prime number"
   ]
  },
  {
   "cell_type": "code",
   "execution_count": 4,
   "id": "83c28167",
   "metadata": {},
   "outputs": [],
   "source": [
    "def primeNumber(array):\n",
    "    count = 0\n",
    "    a = []\n",
    "    for i in array:\n",
    "        for j in range(1, i+1):\n",
    "            if i%j ==0:\n",
    "                count += 1\n",
    "        if count ==2:\n",
    "            a.append(i)\n",
    "            count = 0\n",
    "        \n",
    "    return a"
   ]
  },
  {
   "cell_type": "code",
   "execution_count": 5,
   "id": "5f6ae70b",
   "metadata": {},
   "outputs": [
    {
     "name": "stdout",
     "output_type": "stream",
     "text": [
      "Enter no. of elements: 5\n",
      "Enter: 2 3 4 5 6 7\n"
     ]
    },
    {
     "data": {
      "text/plain": [
       "[2, 3]"
      ]
     },
     "execution_count": 5,
     "metadata": {},
     "output_type": "execute_result"
    }
   ],
   "source": [
    "n = int(input(\"Enter no. of elements: \"))\n",
    "array = list(map(int, input(\"Enter: \").split()))\n",
    "primeNumber(array)"
   ]
  },
  {
   "cell_type": "markdown",
   "id": "5aa7ba98",
   "metadata": {},
   "source": [
    "### Ex: 7\n",
    "\n",
    "inp = \"aaabbacccdd\"\n",
    "\n",
    "out = 8\n",
    "\n",
    "inp = \"vdkkmmmnn\"\n",
    "\n",
    "out = 4"
   ]
  },
  {
   "cell_type": "code",
   "execution_count": 13,
   "id": "235c63a4",
   "metadata": {},
   "outputs": [],
   "source": [
    "def sumOfEvenFreq(str):\n",
    "    i = 0\n",
    "    j = 0\n",
    "    count = 0\n",
    "    Sum = 0\n",
    "    while i < len(str):\n",
    "        while j < len(str) and str[i] == str[j]:\n",
    "            count += 1\n",
    "            j += 1\n",
    "        if count % 2 == 0:\n",
    "            Sum += count\n",
    "        count = 0\n",
    "        i = j\n",
    "    return Sum\n"
   ]
  },
  {
   "cell_type": "code",
   "execution_count": 14,
   "id": "b8b3c189",
   "metadata": {},
   "outputs": [
    {
     "data": {
      "text/plain": [
       "6"
      ]
     },
     "execution_count": 14,
     "metadata": {},
     "output_type": "execute_result"
    }
   ],
   "source": [
    "sumOfEvenFreq(\"aabbbcccc\")"
   ]
  },
  {
   "cell_type": "markdown",
   "id": "8b983762",
   "metadata": {},
   "source": [
    "### Ex: 8"
   ]
  },
  {
   "cell_type": "code",
   "execution_count": 15,
   "id": "3f6652a4",
   "metadata": {},
   "outputs": [],
   "source": [
    "def collatz(n):\n",
    "    count = 0\n",
    "    while n!= 1:\n",
    "        if n%2==0:\n",
    "            n = n//2\n",
    "        else:\n",
    "            n = 3*n + 1\n",
    "        count += 1\n",
    "    return count"
   ]
  },
  {
   "cell_type": "code",
   "execution_count": 16,
   "id": "8710be7f",
   "metadata": {},
   "outputs": [
    {
     "data": {
      "text/plain": [
       "16"
      ]
     },
     "execution_count": 16,
     "metadata": {},
     "output_type": "execute_result"
    }
   ],
   "source": [
    "collatz(7)"
   ]
  },
  {
   "cell_type": "markdown",
   "id": "ea84f316",
   "metadata": {},
   "source": [
    "### Ex: 9"
   ]
  },
  {
   "cell_type": "code",
   "execution_count": 20,
   "id": "ed1e4d09",
   "metadata": {},
   "outputs": [],
   "source": [
    "def cardsdeck(array):\n",
    "    def swap(a,b):\n",
    "        array[a], array[b] = array[b], array[a]\n",
    "        \n",
    "    for i in range(n):\n",
    "        for j in range(i+1, n):\n",
    "                if array[j]<array[i]:\n",
    "                    swap(j,i)\n",
    "    return array"
   ]
  },
  {
   "cell_type": "code",
   "execution_count": 21,
   "id": "a240a555",
   "metadata": {},
   "outputs": [
    {
     "ename": "IndexError",
     "evalue": "list index out of range",
     "output_type": "error",
     "traceback": [
      "\u001b[1;31m---------------------------------------------------------------------------\u001b[0m",
      "\u001b[1;31mIndexError\u001b[0m                                Traceback (most recent call last)",
      "Cell \u001b[1;32mIn[21], line 1\u001b[0m\n\u001b[1;32m----> 1\u001b[0m cardsdeck([\u001b[38;5;241m3\u001b[39m,\u001b[38;5;241m2\u001b[39m,\u001b[38;5;241m5\u001b[39m,\u001b[38;5;241m1\u001b[39m])\n",
      "Cell \u001b[1;32mIn[20], line 7\u001b[0m, in \u001b[0;36mcardsdeck\u001b[1;34m(array)\u001b[0m\n\u001b[0;32m      5\u001b[0m \u001b[38;5;28;01mfor\u001b[39;00m i \u001b[38;5;129;01min\u001b[39;00m \u001b[38;5;28mrange\u001b[39m(n\u001b[38;5;241m-\u001b[39m\u001b[38;5;241m1\u001b[39m):\n\u001b[0;32m      6\u001b[0m     \u001b[38;5;28;01mfor\u001b[39;00m j \u001b[38;5;129;01min\u001b[39;00m \u001b[38;5;28mrange\u001b[39m(i\u001b[38;5;241m+\u001b[39m\u001b[38;5;241m1\u001b[39m, n):\n\u001b[1;32m----> 7\u001b[0m             \u001b[38;5;28;01mif\u001b[39;00m array[j]\u001b[38;5;241m<\u001b[39marray[i]:\n\u001b[0;32m      8\u001b[0m                 swap(j,i)\n\u001b[0;32m      9\u001b[0m \u001b[38;5;28;01mreturn\u001b[39;00m array\n",
      "\u001b[1;31mIndexError\u001b[0m: list index out of range"
     ]
    }
   ],
   "source": [
    "cardsdeck([3,2,5,1])"
   ]
  },
  {
   "cell_type": "code",
   "execution_count": null,
   "id": "0d995263",
   "metadata": {},
   "outputs": [],
   "source": [
    "class Node:\n",
    "    def __init__(self, value):\n",
    "        self.data = value\n",
    "        self.next = None\n",
    "        \n",
    "class LinkedList:\n",
    "    def __init__(self):\n",
    "        self.head = None\n",
    "        \n",
    "    def append(self, data):\n",
    "        new_node = Node(data)\n",
    "        if not self.head:\n",
    "            self.head = new_node\n",
    "            return\n",
    "        last_node = self.head\n",
    "        while last_node.next:\n",
    "            last_node = last_node.next\n",
    "        last_node.next = new_node"
   ]
  }
 ],
 "metadata": {
  "kernelspec": {
   "display_name": "Python 3 (ipykernel)",
   "language": "python",
   "name": "python3"
  },
  "language_info": {
   "codemirror_mode": {
    "name": "ipython",
    "version": 3
   },
   "file_extension": ".py",
   "mimetype": "text/x-python",
   "name": "python",
   "nbconvert_exporter": "python",
   "pygments_lexer": "ipython3",
   "version": "3.11.4"
  }
 },
 "nbformat": 4,
 "nbformat_minor": 5
}
